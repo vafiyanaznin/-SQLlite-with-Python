{
  "nbformat": 4,
  "nbformat_minor": 0,
  "metadata": {
    "colab": {
      "name": "SalesDB",
      "provenance": [],
      "authorship_tag": "ABX9TyPmw9sNKCdvw5snrsVqjPEW",
      "include_colab_link": true
    },
    "kernelspec": {
      "name": "python3",
      "display_name": "Python 3"
    },
    "language_info": {
      "name": "python"
    }
  },
  "cells": [
    {
      "cell_type": "markdown",
      "metadata": {
        "id": "view-in-github",
        "colab_type": "text"
      },
      "source": [
        "<a href=\"https://colab.research.google.com/github/vafiyanaznin/-SQLlite-with-Python/blob/main/SalesDB.ipynb\" target=\"_parent\"><img src=\"https://colab.research.google.com/assets/colab-badge.svg\" alt=\"Open In Colab\"/></a>"
      ]
    },
    {
      "cell_type": "code",
      "source": [
        "import sqlite3\n",
        " \n",
        "conn = sqlite3.connect('SalesDBNew.db')\n",
        "\n",
        " \n",
        "cursor = conn.cursor()\n",
        "cursor.execute(\"SELECT * FROM Supermarket_sales ORDER BY Unitprice LIMIT 1;\")\n",
        "\n",
        "print(cursor.fetchall())\n",
        "  \n",
        "conn.commit()\n",
        "conn.close()\n",
        "\n",
        "\n",
        "conn.close()"
      ],
      "metadata": {
        "colab": {
          "base_uri": "https://localhost:8080/"
        },
        "id": "JIxxLM6EG5cP",
        "outputId": "4fb1411f-2398-4bb1-8c58-36de2efb556c"
      },
      "execution_count": 4,
      "outputs": [
        {
          "output_type": "stream",
          "name": "stdout",
          "text": [
            "[('10', '692-92-5582', 'B', 'Mandalay', 'Member', 'Female', 'Food and beverages', '3', '144', '7445', '13:27', 'Credit card', '164.52', '4.761904762', '8.226', '5.9', '0')]\n"
          ]
        }
      ]
    },
    {
      "cell_type": "code",
      "source": [
        "import sqlite3\n",
        " \n",
        "conn = sqlite3.connect('SalesDBNew.db')\n",
        "\n",
        " \n",
        "cursor = conn.cursor()\n",
        "\n",
        "cursor.execute(\"SELECT * FROM Supermarket_sales ORDER BY Unitprice LIMIT 1;\")\n",
        "\n",
        "\n",
        "\n",
        "print(cursor.fetchall())\n",
        "  \n",
        "conn.commit()\n",
        "conn.close()\n",
        "\n",
        "\n",
        "conn.close()"
      ],
      "metadata": {
        "colab": {
          "base_uri": "https://localhost:8080/"
        },
        "id": "j53-xoDLHX0Y",
        "outputId": "cd9207f4-2df7-4a5a-b494-3c777a3b5af1"
      },
      "execution_count": 7,
      "outputs": [
        {
          "output_type": "stream",
          "name": "stdout",
          "text": [
            "[('10', '692-92-5582', 'B', 'Mandalay', 'Member', 'Female', 'Food and beverages', '3', '144', '7445', '13:27', 'Credit card', '164.52', '4.761904762', '8.226', '5.9', '0')]\n"
          ]
        }
      ]
    },
    {
      "cell_type": "code",
      "source": [
        "import sqlite3\n",
        " \n",
        "conn = sqlite3.connect('SalesDBNew.db')\n",
        "\n",
        " \n",
        "cursor = conn.cursor()\n",
        "\n",
        "cursor.execute(\"SELECT * FROM Supermarket_sales ORDER BY Quantity DESC LIMIT 1;\")\n",
        "\n",
        "\n",
        "\n",
        "print(cursor.fetchall())\n",
        "  \n",
        "conn.commit()\n",
        "conn.close()\n",
        "\n",
        "\n",
        "conn.close()"
      ],
      "metadata": {
        "colab": {
          "base_uri": "https://localhost:8080/"
        },
        "id": "U5eeU5zrIFmo",
        "outputId": "b988c67d-48aa-4d39-cdbc-db13259e3cb5"
      },
      "execution_count": 9,
      "outputs": [
        {
          "output_type": "stream",
          "name": "stdout",
          "text": [
            "[('30', '848-62-7243', 'A', 'Yangon', 'Normal', 'Male', 'Health and beauty', '9', '703', '8890', '15:36', 'Cash', '224.01', '4.761904762', '11.2005', '7.4', '1')]\n"
          ]
        }
      ]
    },
    {
      "cell_type": "code",
      "source": [
        "import sqlite3\n",
        " \n",
        "conn = sqlite3.connect('SalesDBNew.db')\n",
        "\n",
        " \n",
        "cursor = conn.cursor()\n",
        "\n",
        "cursor.execute(\"SELECT * FROM Supermarket_sales WHERE Productline = 'Health and Beauty' ORDER BY Quantity LIMIT 1;\")\n",
        "\n",
        "\n",
        "\n",
        "print(cursor.fetchall())\n",
        "  \n",
        "conn.commit()\n",
        "conn.close()\n",
        "\n",
        "\n",
        "conn.close()"
      ],
      "metadata": {
        "colab": {
          "base_uri": "https://localhost:8080/"
        },
        "id": "VBcJgNc4IT-Y",
        "outputId": "5cef3619-e12c-4d75-e542-ba5a1d0746dd"
      },
      "execution_count": 10,
      "outputs": [
        {
          "output_type": "stream",
          "name": "stdout",
          "text": [
            "[]\n"
          ]
        }
      ]
    },
    {
      "cell_type": "code",
      "source": [
        "import sqlite3\n",
        " \n",
        "conn = sqlite3.connect('SalesDBNew.db')\n",
        "\n",
        " \n",
        "cursor = conn.cursor()\n",
        "\n",
        "cursor.execute(\"SELECT * FROM Supermarket_sales WHERE Productline = 'Health and Beauty' ORDER BY Quantity DESC LIMIT 1;\")\n",
        "\n",
        "\n",
        "print(cursor.fetchall())\n",
        "  \n",
        "conn.commit()\n",
        "conn.close()\n",
        "\n",
        "\n",
        "conn.close()"
      ],
      "metadata": {
        "colab": {
          "base_uri": "https://localhost:8080/"
        },
        "id": "UHY8ungsJahF",
        "outputId": "b82bc2a0-b35e-4603-a017-2d2ffaa7882f"
      },
      "execution_count": 11,
      "outputs": [
        {
          "output_type": "stream",
          "name": "stdout",
          "text": [
            "[]\n"
          ]
        }
      ]
    },
    {
      "cell_type": "code",
      "source": [
        "import sqlite3\n",
        " \n",
        "conn = sqlite3.connect('SalesDBNew.db')\n",
        "\n",
        " \n",
        "cursor = conn.cursor()\n",
        "\n",
        "cursor.execute(\"SELECT count(gender) FROM Supermarket_sales WHERE Productline = 'Health and beauty' AND gender = 'Male';\")\n",
        "\n",
        "\n",
        "print(cursor.fetchall())\n",
        "  \n",
        "conn.commit()\n",
        "conn.close()\n",
        "\n",
        "\n",
        "conn.close()"
      ],
      "metadata": {
        "colab": {
          "base_uri": "https://localhost:8080/"
        },
        "id": "J3Kfl0fmJtIt",
        "outputId": "14f9676d-1bd1-4be0-b3e7-8934e000ad37"
      },
      "execution_count": 12,
      "outputs": [
        {
          "output_type": "stream",
          "name": "stdout",
          "text": [
            "[(88,)]\n"
          ]
        }
      ]
    },
    {
      "cell_type": "code",
      "source": [
        "import sqlite3\n",
        " \n",
        "conn = sqlite3.connect('SalesDBNew.db')\n",
        "\n",
        " \n",
        "cursor = conn.cursor()\n",
        "\n",
        "cursor.execute(\"SELECT count(gender) FROM Supermarket_sales WHERE Productline = 'Fashion accessories' AND gender = 'Female';\")\n",
        "\n",
        "\n",
        "print(cursor.fetchall())\n",
        "  \n",
        "conn.commit()\n",
        "conn.close()\n",
        "\n",
        "\n",
        "conn.close()"
      ],
      "metadata": {
        "colab": {
          "base_uri": "https://localhost:8080/"
        },
        "id": "JXepFLs3KyNv",
        "outputId": "24e7d761-02d7-4e92-a1ea-a197341801b0"
      },
      "execution_count": 13,
      "outputs": [
        {
          "output_type": "stream",
          "name": "stdout",
          "text": [
            "[(96,)]\n"
          ]
        }
      ]
    }
  ]
}